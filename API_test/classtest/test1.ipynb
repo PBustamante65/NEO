{
 "cells": [
  {
   "cell_type": "code",
   "execution_count": 1,
   "metadata": {},
   "outputs": [],
   "source": [
    "import sys\n",
    "# Append the directory, not the file\n",
    "sys.path.append('/Volumes/Maestria/GitHub/NEO/NEO/API_test/')"
   ]
  },
  {
   "cell_type": "code",
   "execution_count": 2,
   "metadata": {},
   "outputs": [],
   "source": [
    "import pandas as pd\n",
    "import numpy as np\n",
    "import matplotlib.pyplot as plt\n",
    "import seaborn as sns\n",
    "from sklearn.preprocessing import OrdinalEncoder\n",
    "from sklearn.preprocessing import OneHotEncoder\n",
    "from sklearn.model_selection import StratifiedShuffleSplit\n",
    "from sklearn.model_selection import train_test_split\n",
    "from sklearn.model_selection import ShuffleSplit\n",
    "from sklearn.impute import SimpleImputer\n",
    "from pandas.plotting import scatter_matrix\n",
    "from sklearn.base import BaseEstimator, TransformerMixin\n",
    "from sklearn.pipeline import Pipeline\n",
    "from sklearn.preprocessing import StandardScaler\n",
    "from sklearn.compose import ColumnTransformer\n",
    "from joblib import dump, load\n",
    "import os\n",
    "from sklearn.model_selection import GridSearchCV\n",
    "from sklearn.model_selection import RandomizedSearchCV\n",
    "from sklearn import datasets\n",
    "from sklearn.linear_model import LogisticRegression\n",
    "from sklearn.datasets import load_iris\n",
    "from sklearn.metrics import accuracy_score\n",
    "from sklearn.metrics import recall_score, f1_score\n",
    "from sklearn.preprocessing import LabelEncoder\n",
    "from sklearn.metrics import confusion_matrix, ConfusionMatrixDisplay\n",
    "from sklearn.metrics import classification_report\n",
    "from sklearn.model_selection import learning_curve\n",
    "from sklearn.utils import resample\n",
    "from imblearn.over_sampling import SMOTE\n",
    "from sklearn import svm\n",
    "from sklearn.svm import SVC\n",
    "from imblearn.pipeline import make_pipeline\n",
    "from sklearn.svm import LinearSVR\n",
    "from sklearn.svm import LinearSVC\n",
    "\n",
    "\n",
    "import pickle as pkl\n",
    "import sys\n",
    "\n",
    "\n",
    "import dataprocess as dp"
   ]
  },
  {
   "cell_type": "code",
   "execution_count": null,
   "metadata": {},
   "outputs": [],
   "source": [
    "df = pd.read_csv('/Volumes/Maestria/GitHub/NEO/NEO/API_test/CSV/neo_data_copy.csv') \n",
    "df = dp.OverallProcessor(df).clean()\n",
    "df = dp.OverallProcessor(df).rus()\n",
    "df.head()"
   ]
  },
  {
   "cell_type": "code",
   "execution_count": 5,
   "metadata": {},
   "outputs": [
    {
     "data": {
      "text/html": [
       "<div>\n",
       "<style scoped>\n",
       "    .dataframe tbody tr th:only-of-type {\n",
       "        vertical-align: middle;\n",
       "    }\n",
       "\n",
       "    .dataframe tbody tr th {\n",
       "        vertical-align: top;\n",
       "    }\n",
       "\n",
       "    .dataframe thead th {\n",
       "        text-align: right;\n",
       "    }\n",
       "</style>\n",
       "<table border=\"1\" class=\"dataframe\">\n",
       "  <thead>\n",
       "    <tr style=\"text-align: right;\">\n",
       "      <th></th>\n",
       "      <th>is_hazardous</th>\n",
       "      <th>absolute_magnitude_h</th>\n",
       "      <th>relative_velocity.kilometers_per_hour</th>\n",
       "      <th>miss_distance.kilometers</th>\n",
       "      <th>orbit_uncertainty</th>\n",
       "      <th>minimum_orbit_intersection</th>\n",
       "      <th>jupiter_tisserand_invariant</th>\n",
       "      <th>eccentricity</th>\n",
       "      <th>semi_major_axis</th>\n",
       "      <th>inclination</th>\n",
       "      <th>ascending_node_longitude</th>\n",
       "      <th>perihelion_distance</th>\n",
       "      <th>perihelion_argument</th>\n",
       "      <th>aphelion_distance</th>\n",
       "      <th>perihelion_time</th>\n",
       "      <th>mean_anomaly</th>\n",
       "    </tr>\n",
       "  </thead>\n",
       "  <tbody>\n",
       "    <tr>\n",
       "      <th>0</th>\n",
       "      <td>0</td>\n",
       "      <td>26.91</td>\n",
       "      <td>28183.2262176706</td>\n",
       "      <td>1338996.724016161</td>\n",
       "      <td>7.0</td>\n",
       "      <td>0.010087</td>\n",
       "      <td>3.609</td>\n",
       "      <td>0.509392</td>\n",
       "      <td>2.052460</td>\n",
       "      <td>6.686945</td>\n",
       "      <td>191.728677</td>\n",
       "      <td>1.006954</td>\n",
       "      <td>170.486178</td>\n",
       "      <td>3.097967</td>\n",
       "      <td>2.460215e+06</td>\n",
       "      <td>129.292041</td>\n",
       "    </tr>\n",
       "    <tr>\n",
       "      <th>1</th>\n",
       "      <td>0</td>\n",
       "      <td>25.82</td>\n",
       "      <td>32738.0262647721</td>\n",
       "      <td>22194554.396867284</td>\n",
       "      <td>6.0</td>\n",
       "      <td>0.001913</td>\n",
       "      <td>4.541</td>\n",
       "      <td>0.447136</td>\n",
       "      <td>1.446095</td>\n",
       "      <td>2.255558</td>\n",
       "      <td>224.534268</td>\n",
       "      <td>0.799494</td>\n",
       "      <td>109.146094</td>\n",
       "      <td>2.092696</td>\n",
       "      <td>2.460842e+06</td>\n",
       "      <td>223.250515</td>\n",
       "    </tr>\n",
       "    <tr>\n",
       "      <th>2</th>\n",
       "      <td>0</td>\n",
       "      <td>28.44</td>\n",
       "      <td>28749.3011604989</td>\n",
       "      <td>15141658.306645302</td>\n",
       "      <td>6.0</td>\n",
       "      <td>0.006157</td>\n",
       "      <td>5.818</td>\n",
       "      <td>0.150310</td>\n",
       "      <td>1.054296</td>\n",
       "      <td>7.286439</td>\n",
       "      <td>144.437341</td>\n",
       "      <td>0.895825</td>\n",
       "      <td>283.787815</td>\n",
       "      <td>1.212767</td>\n",
       "      <td>2.460714e+06</td>\n",
       "      <td>256.644877</td>\n",
       "    </tr>\n",
       "    <tr>\n",
       "      <th>3</th>\n",
       "      <td>0</td>\n",
       "      <td>23.26</td>\n",
       "      <td>23279.7304638839</td>\n",
       "      <td>65208239.205723247</td>\n",
       "      <td>4.0</td>\n",
       "      <td>0.187817</td>\n",
       "      <td>4.899</td>\n",
       "      <td>0.105311</td>\n",
       "      <td>1.335560</td>\n",
       "      <td>5.624949</td>\n",
       "      <td>227.900859</td>\n",
       "      <td>1.194911</td>\n",
       "      <td>29.076729</td>\n",
       "      <td>1.476209</td>\n",
       "      <td>2.460488e+06</td>\n",
       "      <td>71.799228</td>\n",
       "    </tr>\n",
       "    <tr>\n",
       "      <th>4</th>\n",
       "      <td>0</td>\n",
       "      <td>23.14</td>\n",
       "      <td>81474.3102856586</td>\n",
       "      <td>63946287.135052165</td>\n",
       "      <td>5.0</td>\n",
       "      <td>0.083318</td>\n",
       "      <td>3.119</td>\n",
       "      <td>0.607917</td>\n",
       "      <td>2.588083</td>\n",
       "      <td>8.093767</td>\n",
       "      <td>210.785321</td>\n",
       "      <td>1.014742</td>\n",
       "      <td>127.341872</td>\n",
       "      <td>4.161424</td>\n",
       "      <td>2.460192e+06</td>\n",
       "      <td>96.725440</td>\n",
       "    </tr>\n",
       "  </tbody>\n",
       "</table>\n",
       "</div>"
      ],
      "text/plain": [
       "   is_hazardous  absolute_magnitude_h relative_velocity.kilometers_per_hour  \\\n",
       "0             0                 26.91                      28183.2262176706   \n",
       "1             0                 25.82                      32738.0262647721   \n",
       "2             0                 28.44                      28749.3011604989   \n",
       "3             0                 23.26                      23279.7304638839   \n",
       "4             0                 23.14                      81474.3102856586   \n",
       "\n",
       "  miss_distance.kilometers  orbit_uncertainty  minimum_orbit_intersection  \\\n",
       "0        1338996.724016161                7.0                    0.010087   \n",
       "1       22194554.396867284                6.0                    0.001913   \n",
       "2       15141658.306645302                6.0                    0.006157   \n",
       "3       65208239.205723247                4.0                    0.187817   \n",
       "4       63946287.135052165                5.0                    0.083318   \n",
       "\n",
       "   jupiter_tisserand_invariant  eccentricity  semi_major_axis  inclination  \\\n",
       "0                        3.609      0.509392         2.052460     6.686945   \n",
       "1                        4.541      0.447136         1.446095     2.255558   \n",
       "2                        5.818      0.150310         1.054296     7.286439   \n",
       "3                        4.899      0.105311         1.335560     5.624949   \n",
       "4                        3.119      0.607917         2.588083     8.093767   \n",
       "\n",
       "   ascending_node_longitude  perihelion_distance  perihelion_argument  \\\n",
       "0                191.728677             1.006954           170.486178   \n",
       "1                224.534268             0.799494           109.146094   \n",
       "2                144.437341             0.895825           283.787815   \n",
       "3                227.900859             1.194911            29.076729   \n",
       "4                210.785321             1.014742           127.341872   \n",
       "\n",
       "   aphelion_distance  perihelion_time  mean_anomaly  \n",
       "0           3.097967     2.460215e+06    129.292041  \n",
       "1           2.092696     2.460842e+06    223.250515  \n",
       "2           1.212767     2.460714e+06    256.644877  \n",
       "3           1.476209     2.460488e+06     71.799228  \n",
       "4           4.161424     2.460192e+06     96.725440  "
      ]
     },
     "execution_count": 5,
     "metadata": {},
     "output_type": "execute_result"
    }
   ],
   "source": [
    "df = pd.read_csv('/Volumes/Maestria/GitHub/NEO/NEO/API_test/CSV/neo_data_copy.csv') \n",
    "df = dp.OverallProcessor(df).clean2()\n",
    "df.drop(columns=['estimated_diameter_min', 'estimated_diameter_max', 'estimated_diameter_average'], inplace=True)\n",
    "df = dp.OverallProcessor(df).rus()\n",
    "df.head()"
   ]
  },
  {
   "cell_type": "code",
   "execution_count": 3,
   "metadata": {},
   "outputs": [
    {
     "data": {
      "text/plain": [
       "(86324, 6)"
      ]
     },
     "execution_count": 3,
     "metadata": {},
     "output_type": "execute_result"
    }
   ],
   "source": [
    "df = pd.read_csv('/Volumes/Maestria/GitHub/NEO/NEO/nearest-earth-objects(1910-2024).csv')\n",
    "\n",
    "df.drop(columns=['neo_id', 'orbiting_body', 'name'], inplace=True)\n",
    "le = LabelEncoder()\n",
    "df['is_hazardous'] = le.fit_transform(df['is_hazardous'])\n",
    "df = df.dropna()\n",
    "df = dp.OverallProcessor(df).rus()\n",
    "df.shape\n"
   ]
  },
  {
   "cell_type": "code",
   "execution_count": 6,
   "metadata": {},
   "outputs": [],
   "source": [
    "df_target = df['is_hazardous']\n",
    "df_target_array = df_target.values\n",
    "df_features = df.drop(columns=['is_hazardous'])\n",
    "df_features_array = df_features.values\n",
    "\n",
    "# preprocess = ColumnTransformer([\n",
    "#     ('scaler', StandardScaler(), ['absolute_magnitude', 'estimated_diameter_min', 'estimated_diameter_max', 'relative_velocity', 'miss_distance'])\n",
    "# ])\n",
    "# preprocess = ColumnTransformer([\n",
    "#     ('scaler', StandardScaler(), ['absolute_magnitude', 'estimated_diameter_min', 'estimated_diameter_max', 'relative_velocity', 'miss_distance','minimum_orbit_intersection', 'eccentricity', 'inclination', 'perihilion_distance', 'aphelion_distance', 'estimated_diameter_average'])\n",
    "# ])\n",
    "\n",
    "preprocess = ColumnTransformer([\n",
    "    ('scaler', StandardScaler(), ['absolute_magnitude_h', 'relative_velocity.kilometers_per_hour', 'miss_distance.kilometers', 'orbit_uncertainty', 'minimum_orbit_intersection','jupiter_tisserand_invariant', 'eccentricity', 'semi_major_axis', 'inclination', 'ascending_node_longitude', 'perihelion_distance', 'perihelion_argument', 'aphelion_distance', 'perihelion_time', 'mean_anomaly'])\n",
    "])\n",
    "\n",
    "\n",
    "pipeline = Pipeline([\n",
    "    ('preprocess', preprocess)])\n",
    "\n",
    "df_preprocessed = pipeline.fit_transform(df)\n",
    "df_preprocessed\n",
    "\n",
    "X_train, X_test, y_train, y_test = train_test_split(df_preprocessed, df_target_array, test_size=0.2)\n",
    "\n",
    "sss = StratifiedShuffleSplit(n_splits=1, test_size=20000, random_state=42)\n",
    "\n",
    "for train_index, sample_index in sss.split(X_train, y_train):\n",
    "    X_train_sample = X_train[sample_index]\n",
    "    y_train_sample = y_train[sample_index]\n"
   ]
  },
  {
   "cell_type": "code",
   "execution_count": 7,
   "metadata": {},
   "outputs": [
    {
     "data": {
      "text/plain": [
       "((20000, 15), (20000,), (5020, 15), (5020,))"
      ]
     },
     "execution_count": 7,
     "metadata": {},
     "output_type": "execute_result"
    }
   ],
   "source": [
    "X_train_sample.shape, y_train_sample.shape, X_test.shape, y_test.shape"
   ]
  },
  {
   "cell_type": "code",
   "execution_count": 8,
   "metadata": {},
   "outputs": [
    {
     "name": "stdout",
     "output_type": "stream",
     "text": [
      "The accuracy score is 0.9384462151394423\n",
      " The recall score is 0.9070380127963868\n",
      " The f1 score is 0.939754338077598\n",
      " The roc score is 0.9389901591704644\n",
      "\n",
      "Classification Report: \n",
      "               precision    recall  f1-score   support\n",
      "\n",
      "           0       0.97      0.90      0.94      2548\n",
      "           1       0.91      0.97      0.94      2472\n",
      "\n",
      "    accuracy                           0.94      5020\n",
      "   macro avg       0.94      0.94      0.94      5020\n",
      "weighted avg       0.94      0.94      0.94      5020\n",
      "\n",
      "\n",
      "Cross validation score: [0.72499663 0.72599664 0.73799581 0.72399558 0.73699579]\n",
      "\n",
      "Mean cross validation score: 0.729996091692511\n",
      "\n"
     ]
    },
    {
     "data": {
      "image/png": "[encoded data removed]",
      "text/plain": [
       "<Figure size 640x480 with 2 Axes>"
      ]
     },
     "metadata": {},
     "output_type": "display_data"
    },
    {
     "data": {
      "image/png": "[encoded data removed]",
      "text/plain": [
       "<Figure size 640x480 with 2 Axes>"
      ]
     },
     "metadata": {},
     "output_type": "display_data"
    }
   ],
   "source": [
    "log_reg = dp.LogRegression(X_train_sample, X_test, y_train_sample, y_test)\n",
    "\n",
    "log_reg.fit()"
   ]
  },
  {
   "cell_type": "code",
   "execution_count": 9,
   "metadata": {},
   "outputs": [
    {
     "name": "stdout",
     "output_type": "stream",
     "text": [
      "The accuracy score is 0.998207171314741\n",
      " The recall score is 0.9975757575757576\n",
      " The f1 score is 0.9981807155852032\n",
      " The roc score is 0.9982158098489583\n",
      "\n",
      "Classification Report: \n",
      "               precision    recall  f1-score   support\n",
      "\n",
      "           0       1.00      1.00      1.00      2548\n",
      "           1       1.00      1.00      1.00      2472\n",
      "\n",
      "    accuracy                           1.00      5020\n",
      "   macro avg       1.00      1.00      1.00      5020\n",
      "weighted avg       1.00      1.00      1.00      5020\n",
      "\n",
      "\n",
      "Cross validation score: [0.98999988 0.99299991 0.98299973 0.99299989 0.99299989]\n",
      "\n",
      "Mean cross validation score: 0.9903998591479025\n",
      "\n"
     ]
    },
    {
     "data": {
      "image/png": "[encoded data removed]",
      "text/plain": [
       "<Figure size 640x480 with 2 Axes>"
      ]
     },
     "metadata": {},
     "output_type": "display_data"
    },
    {
     "data": {
      "image/png": "[encoded data removed]",
      "text/plain": [
       "<Figure size 640x480 with 2 Axes>"
      ]
     },
     "metadata": {},
     "output_type": "display_data"
    }
   ],
   "source": [
    "supportvm = dp.supportvm2(X_train_sample, X_test, y_train_sample, y_test)\n",
    "\n",
    "supportvm.fit()"
   ]
  },
  {
   "cell_type": "code",
   "execution_count": 10,
   "metadata": {},
   "outputs": [
    {
     "name": "stderr",
     "output_type": "stream",
     "text": [
      "/opt/anaconda3/lib/python3.12/site-packages/sklearn/ensemble/_forest.py:862: UserWarning: class_weight presets \"balanced\" or \"balanced_subsample\" are not recommended for warm_start if the fitted data differs from the full dataset. In order to use \"balanced\" weights, use compute_class_weight (\"balanced\", classes, y). In place of y you can use a large enough sample of the full training set target to properly estimate the class frequency distributions. Pass the resulting weights as the class_weight parameter.\n",
      "  warn(\n"
     ]
    },
    {
     "name": "stdout",
     "output_type": "stream",
     "text": [
      "The accuracy score is 1.0\n",
      " The recall score is 1.0\n",
      " The f1 score is 1.0\n",
      " The roc score is 1.0\n",
      "\n",
      "Classification Report: \n",
      "               precision    recall  f1-score   support\n",
      "\n",
      "           0       1.00      1.00      1.00      2548\n",
      "           1       1.00      1.00      1.00      2472\n",
      "\n",
      "    accuracy                           1.00      5020\n",
      "   macro avg       1.00      1.00      1.00      5020\n",
      "weighted avg       1.00      1.00      1.00      5020\n",
      "\n",
      "\n"
     ]
    },
    {
     "name": "stderr",
     "output_type": "stream",
     "text": [
      "/opt/anaconda3/lib/python3.12/site-packages/sklearn/ensemble/_forest.py:862: UserWarning: class_weight presets \"balanced\" or \"balanced_subsample\" are not recommended for warm_start if the fitted data differs from the full dataset. In order to use \"balanced\" weights, use compute_class_weight (\"balanced\", classes, y). In place of y you can use a large enough sample of the full training set target to properly estimate the class frequency distributions. Pass the resulting weights as the class_weight parameter.\n",
      "  warn(\n",
      "/opt/anaconda3/lib/python3.12/site-packages/sklearn/ensemble/_forest.py:862: UserWarning: class_weight presets \"balanced\" or \"balanced_subsample\" are not recommended for warm_start if the fitted data differs from the full dataset. In order to use \"balanced\" weights, use compute_class_weight (\"balanced\", classes, y). In place of y you can use a large enough sample of the full training set target to properly estimate the class frequency distributions. Pass the resulting weights as the class_weight parameter.\n",
      "  warn(\n",
      "/opt/anaconda3/lib/python3.12/site-packages/sklearn/ensemble/_forest.py:862: UserWarning: class_weight presets \"balanced\" or \"balanced_subsample\" are not recommended for warm_start if the fitted data differs from the full dataset. In order to use \"balanced\" weights, use compute_class_weight (\"balanced\", classes, y). In place of y you can use a large enough sample of the full training set target to properly estimate the class frequency distributions. Pass the resulting weights as the class_weight parameter.\n",
      "  warn(\n",
      "/opt/anaconda3/lib/python3.12/site-packages/sklearn/ensemble/_forest.py:862: UserWarning: class_weight presets \"balanced\" or \"balanced_subsample\" are not recommended for warm_start if the fitted data differs from the full dataset. In order to use \"balanced\" weights, use compute_class_weight (\"balanced\", classes, y). In place of y you can use a large enough sample of the full training set target to properly estimate the class frequency distributions. Pass the resulting weights as the class_weight parameter.\n",
      "  warn(\n",
      "/opt/anaconda3/lib/python3.12/site-packages/sklearn/ensemble/_forest.py:862: UserWarning: class_weight presets \"balanced\" or \"balanced_subsample\" are not recommended for warm_start if the fitted data differs from the full dataset. In order to use \"balanced\" weights, use compute_class_weight (\"balanced\", classes, y). In place of y you can use a large enough sample of the full training set target to properly estimate the class frequency distributions. Pass the resulting weights as the class_weight parameter.\n",
      "  warn(\n"
     ]
    },
    {
     "name": "stdout",
     "output_type": "stream",
     "text": [
      "Cross validation score: [1.         1.         1.         0.99899998 1.        ]\n",
      "\n",
      "Mean cross validation score: 0.9997999967999487\n",
      "\n"
     ]
    },
    {
     "data": {
      "image/png": "[encoded data removed]",
      "text/plain": [
       "<Figure size 640x480 with 2 Axes>"
      ]
     },
     "metadata": {},
     "output_type": "display_data"
    },
    {
     "data": {
      "image/png": "[encoded data removed]",
      "text/plain": [
       "<Figure size 640x480 with 2 Axes>"
      ]
     },
     "metadata": {},
     "output_type": "display_data"
    }
   ],
   "source": [
    "rndfrst = dp.RandomForest(X_train_sample, X_test, y_train_sample, y_test)\n",
    "\n",
    "rndfrst.fit()"
   ]
  },
  {
   "cell_type": "code",
   "execution_count": null,
   "metadata": {},
   "outputs": [],
   "source": []
  }
 ],
 "metadata": {
  "kernelspec": {
   "display_name": "base",
   "language": "python",
   "name": "python3"
  },
  "language_info": {
   "codemirror_mode": {
    "name": "ipython",
    "version": 3
   },
   "file_extension": ".py",
   "mimetype": "text/x-python",
   "name": "python",
   "nbconvert_exporter": "python",
   "pygments_lexer": "ipython3",
   "version": "3.12.4"
  }
 },
 "nbformat": 4,
 "nbformat_minor": 2
}
